{
 "cells": [
  {
   "cell_type": "code",
   "execution_count": null,
   "metadata": {},
   "outputs": [],
   "source": [
    "import pandas as pd # data processing, CSV file I/O (e.g. pd.read_csv)\n",
    "import numpy as np # linear algebra\n",
    "import seaborn as sns\n",
    "import matplotlib.pyplot as plt\n",
    "import math\n",
    "\n",
    "from google.colab import drive\n",
    "drive.mount(\"/content/drive\")\n",
    "\n",
    "#import data from google drive\n",
    "covid_data = pd.read_csv('/content/drive/My Drive/COVID-data/covid_19_data.csv')\n",
    "covid_data.head()"
   ]
  },
  {
   "cell_type": "code",
   "execution_count": null,
   "metadata": {},
   "outputs": [],
   "source": [
    "#check for NaN if any present\n",
    "covid_data.isnull().sum()"
   ]
  },
  {
   "cell_type": "code",
   "execution_count": null,
   "metadata": {},
   "outputs": [],
   "source": [
    "#Total number of countries effected by Covid-19\n",
    "uniqueValues = covid_data['Country/Region'].unique()\n",
    "print('Total number of countries effected by Covid-19: %s' % len(uniqueValues)) \n",
    "print(uniqueValues);"
   ]
  },
  {
   "cell_type": "code",
   "execution_count": null,
   "metadata": {},
   "outputs": [],
   "source": [
    "#VISUALIZATION\n",
    "# Convert ObservationDate to datetime object\n",
    "covid_data['ObservationDate'] = pd.to_datetime(covid_data['ObservationDate'], format='%m/%d/%Y', utc=True);"
   ]
  },
  {
   "cell_type": "code",
   "execution_count": null,
   "metadata": {},
   "outputs": [],
   "source": [
    "# Group data by date\n",
    "date_grouped=covid_data.groupby([\"ObservationDate\"]).agg({\"Confirmed\":'sum',\"Recovered\":'sum',\"Deaths\":'sum'})\n",
    "\n",
    "#Calculate Active cases around the world\n",
    "date_grouped[\"Active Cases\"] = date_grouped[\"Confirmed\"] - date_grouped[\"Recovered\"] - date_grouped[\"Deaths\"]\n",
    "\n",
    "# Total number of Confirmed cases around the world\n",
    "print('Total number of Confirmed cases around the world: %s' % date_grouped[\"Confirmed\"].iloc[-1])\n",
    "\n",
    "# Total number of Recovered cases around the world\n",
    "print('Total number of Recovered cases around the world: %s' % date_grouped[\"Recovered\"].iloc[-1])\n",
    "\n",
    "# Total number of Death cases around the world\n",
    "print('Total number of Death cases around the world: %s' % date_grouped[\"Deaths\"].iloc[-1])\n",
    "\n",
    "date_grouped.tail()"
   ]
  },
  {
   "cell_type": "code",
   "execution_count": null,
   "metadata": {},
   "outputs": [],
   "source": [
    "import plotly.graph_objects as go\n",
    "fig=go.Figure()\n",
    "fig.add_trace(go.Scatter(x=date_grouped.index, y=date_grouped[\"Confirmed\"],\n",
    "                    mode='lines+markers',\n",
    "                    name='Confirmed',marker_color='purple'))\n",
    "fig.add_trace(go.Scatter(x=date_grouped.index, y=date_grouped[\"Recovered\"],\n",
    "                    mode='lines+markers',\n",
    "                    name='Recovered', marker_color='green'))\n",
    "fig.add_trace(go.Scatter(x=date_grouped.index, y=date_grouped[\"Deaths\"],\n",
    "                    mode='lines+markers',\n",
    "                    name='Death', marker_color='red'))\n",
    "fig.update_layout(title=\"Confirmed, Recovered, Death case counts\",\n",
    "                 xaxis_title=\"Date\",yaxis_title=\"Number of Cases\",legend=dict(x=0,y=1,traceorder=\"normal\"))\n",
    "fig.show()"
   ]
  },
  {
   "cell_type": "code",
   "execution_count": null,
   "metadata": {},
   "outputs": [],
   "source": [
    "# Group data by country\n",
    "country_grouped=covid_data.groupby(['Country/Region','ObservationDate']).agg({\"Confirmed\":'sum',\"Recovered\":'sum',\"Deaths\":'sum'})\n",
    "\n",
    "country_grouped[\"Death_Percent\"] = country_grouped[\"Deaths\"] / country_grouped[\"Confirmed\"] * 100 \n",
    "country_grouped[\"Recovered_Percent\"] = country_grouped[\"Recovered\"] / country_grouped[\"Confirmed\"] * 100\n",
    "\n",
    "# get total sum of each country\n",
    "total_sum_country = country_grouped.groupby(['Country/Region']).tail(1)\n",
    "total_sum_country.tail(20)"
   ]
  },
  {
   "cell_type": "code",
   "execution_count": null,
   "metadata": {},
   "outputs": [],
   "source": [
    "# Top 10 countries with confirmed cases\n",
    "total_sum_country = total_sum_country.reset_index()\n",
    "top_10_confirmed_country = total_sum_country.sort_values(by=['Confirmed'],ascending=False).head(10)"
   ]
  },
  {
   "cell_type": "code",
   "execution_count": null,
   "metadata": {},
   "outputs": [],
   "source": [
    "# Plot pie-chart\n",
    "fig1, ax1 = plt.subplots()\n",
    "ax1.pie(top_10_confirmed_country['Confirmed'], labels=top_10_confirmed_country['Country/Region'], autopct='%1.1f%%',\n",
    "        shadow=True, startangle=90)\n",
    "ax1.axis('equal')  # Equal aspect ratio ensures that pie is drawn as a circle.\n",
    "plt.show()"
   ]
  }
 ],
 "metadata": {
  "language_info": {
   "codemirror_mode": {
    "name": "ipython",
    "version": 3
   },
   "file_extension": ".py",
   "mimetype": "text/x-python",
   "name": "python",
   "nbconvert_exporter": "python",
   "pygments_lexer": "ipython3",
   "version": 3
  },
  "orig_nbformat": 2
 },
 "nbformat": 4,
 "nbformat_minor": 2
}
