{
  "nbformat": 4,
  "nbformat_minor": 0,
  "metadata": {
    "colab": {
      "name": "COVID-data-analysis.ipynb",
      "provenance": [],
      "authorship_tag": "ABX9TyMpfjtyPUvuiBg0esUbg2if",
      "include_colab_link": true
    },
    "kernelspec": {
      "name": "python3",
      "display_name": "Python 3"
    },
    "language_info": {
      "name": "python"
    }
  },
  "cells": [
    {
      "cell_type": "markdown",
      "metadata": {
        "id": "view-in-github",
        "colab_type": "text"
      },
      "source": [
        "<a href=\"https://colab.research.google.com/github/Talank/COVID-data-analysis/blob/master/COVID_data_analysis.ipynb\" target=\"_parent\"><img src=\"https://colab.research.google.com/assets/colab-badge.svg\" alt=\"Open In Colab\"/></a>"
      ]
    },
    {
      "cell_type": "code",
      "metadata": {
        "id": "xrRVsvqIN5uw"
      },
      "source": [
        "import numpy as np # linear algebra"
      ],
      "execution_count": null,
      "outputs": []
    }
  ]
}